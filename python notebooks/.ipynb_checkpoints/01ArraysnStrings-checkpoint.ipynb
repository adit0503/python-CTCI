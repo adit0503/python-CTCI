{
 "cells": [
  {
   "cell_type": "code",
   "execution_count": null,
   "metadata": {},
   "outputs": [],
   "source": []
  },
  {
   "cell_type": "code",
   "execution_count": 174,
   "metadata": {},
   "outputs": [],
   "source": [
    "def stringRotation(s1,s2):\n",
    "    \n",
    "    def isSubstring(s2,s1):\n",
    "        return s1.find(s2)\n",
    "    s1 = s1*2\n",
    "    return isSubstring(s2,s1) > 0"
   ]
  },
  {
   "cell_type": "code",
   "execution_count": null,
   "metadata": {},
   "outputs": [],
   "source": []
  },
  {
   "cell_type": "code",
   "execution_count": 171,
   "metadata": {},
   "outputs": [],
   "source": [
    "#O(nm) - find r,c for all 0 first\n",
    "def zeroMatrix(matrix):\n",
    "    row = set()\n",
    "    col = set()\n",
    "    n,m = len(matrix),len(matrix[0])\n",
    "    for i in range(n):\n",
    "        for j in range(m):\n",
    "            if matrix[i][j] == 0:\n",
    "                row.add(i)\n",
    "                col.add(j)\n",
    "    for r in row:\n",
    "        for j in range(m):\n",
    "            matrix[r][j] = 0\n",
    "    for c in col:\n",
    "        for i in range(n):\n",
    "            matrix[i][c] = 0\n",
    "    return matrix"
   ]
  },
  {
   "cell_type": "code",
   "execution_count": 173,
   "metadata": {},
   "outputs": [
    {
     "data": {
      "text/plain": [
       "[[1, 0, 3], [0, 0, 0], [7, 0, 9]]"
      ]
     },
     "execution_count": 173,
     "metadata": {},
     "output_type": "execute_result"
    }
   ],
   "source": [
    "zeroMatrix([[1,2,3],[4,0,6],[7,8,9]])"
   ]
  },
  {
   "cell_type": "code",
   "execution_count": 169,
   "metadata": {},
   "outputs": [],
   "source": [
    "# O(n2) - transpose + reverse\n",
    "def rotateMatrix(matrix):\n",
    "    if len(matrix) == 0 or len(matrix)!=len(matrix[0]):\n",
    "        return matrix\n",
    "    \n",
    "    n = len(matrix)\n",
    "    transpose = [[matrix[j][i] for j in range(n)] for i in range(n)]\n",
    "    res = []\n",
    "    for t in transpose:\n",
    "        res.append(t[::-1])\n",
    "    return res"
   ]
  },
  {
   "cell_type": "code",
   "execution_count": 170,
   "metadata": {},
   "outputs": [
    {
     "data": {
      "text/plain": [
       "[[7, 4, 1], [8, 5, 2], [9, 6, 3]]"
      ]
     },
     "execution_count": 170,
     "metadata": {},
     "output_type": "execute_result"
    }
   ],
   "source": [
    "rotateMatrix([[1,2,3],[4,5,6],[7,8,9]])"
   ]
  },
  {
   "cell_type": "raw",
   "metadata": {},
   "source": []
  },
  {
   "cell_type": "code",
   "execution_count": 162,
   "metadata": {},
   "outputs": [],
   "source": [
    "# O(n) - using 2 indices\n",
    "def stringCompression(S):\n",
    "    T = ''\n",
    "    i,j = 0,0\n",
    "    while(i<len(S)):\n",
    "        s,j = S[i],i\n",
    "        while(j < len(S) and S[j]==s):\n",
    "            j += 1\n",
    "        T += s\n",
    "        T += str(j-i)\n",
    "        if len(T)>=len(S):\n",
    "            return S\n",
    "        i = j\n",
    "    return T"
   ]
  },
  {
   "cell_type": "code",
   "execution_count": 164,
   "metadata": {},
   "outputs": [
    {
     "data": {
      "text/plain": [
       "'a2b2c2d3'"
      ]
     },
     "execution_count": 164,
     "metadata": {},
     "output_type": "execute_result"
    }
   ],
   "source": [
    "stringCompression('aabbccddd')"
   ]
  },
  {
   "cell_type": "code",
   "execution_count": 144,
   "metadata": {},
   "outputs": [],
   "source": [
    "#O(n2) - comparing strings n time\n",
    "def oneAway(S,T):\n",
    "    def oneReplace(S,T):\n",
    "        count = 0\n",
    "        for i in range(len(S)):\n",
    "            if S[i] != T[i]:\n",
    "                count += 1\n",
    "            i += 1\n",
    "        return count < 2 \n",
    "    \n",
    "    def oneInsertRemove(X,Y): # X>Y\n",
    "        for i in range(len(X)):\n",
    "            temp = X[:i] + X[i+1:]\n",
    "            if temp == Y:\n",
    "                return True\n",
    "        return False\n",
    "            \n",
    "    if len(S)==len(T):\n",
    "        return oneReplace(S,T)\n",
    "    elif len(S) == len(T)+1:\n",
    "        return oneInsertRemove(S,T)\n",
    "    elif len(S)+1 == len(T):\n",
    "        return oneInsertRemove(T,S)\n",
    "    else:\n",
    "        return False\n",
    "    \n",
    "    \n",
    "#O(n) - comparing using indices   \n",
    "def oneAway2(S,T):\n",
    "    def oneReplace(S,T):\n",
    "        count = 0\n",
    "        for i in range(len(S)):\n",
    "            if S[i] != T[i]:\n",
    "                count += 1\n",
    "            i += 1\n",
    "        return count < 2 \n",
    "    \n",
    "    def oneInsertRemove(X,Y):\n",
    "        i,j = 0,0\n",
    "        while(i < len(X) and j < len(Y)):\n",
    "            if X[i] != Y[j]:\n",
    "                if i!=j:\n",
    "                    return False\n",
    "                i += 1\n",
    "            else:\n",
    "                i += 1\n",
    "                j += 1\n",
    "        return True\n",
    "            \n",
    "    if len(S)==len(T):\n",
    "        return oneReplace(S,T)\n",
    "    elif len(S) == len(T)+1:\n",
    "        return oneInsertRemove(S,T)\n",
    "    elif len(S)+1 == len(T):\n",
    "        return oneInsertRemove(T,S)\n",
    "    else:\n",
    "        return False"
   ]
  },
  {
   "cell_type": "code",
   "execution_count": 148,
   "metadata": {},
   "outputs": [
    {
     "data": {
      "text/plain": [
       "False"
      ]
     },
     "execution_count": 148,
     "metadata": {},
     "output_type": "execute_result"
    }
   ],
   "source": [
    "oneAway2('bae','pale')"
   ]
  },
  {
   "cell_type": "code",
   "execution_count": null,
   "metadata": {
    "collapsed": true
   },
   "outputs": [],
   "source": []
  },
  {
   "cell_type": "code",
   "execution_count": 114,
   "metadata": {},
   "outputs": [],
   "source": [
    "# O(n) - using character count(odd)\n",
    "def palindromePermutation(S):\n",
    "    temp = {}\n",
    "    for s in S:\n",
    "        s = s.lower()\n",
    "        if s.isalnum():\n",
    "            temp[s] = temp.get(s,0) + 1\n",
    "    odd = 0\n",
    "    for v in temp.values():\n",
    "        if v%2 != 0:\n",
    "            odd += 1\n",
    "    return odd < 2\n",
    "\n",
    "\n",
    "# O(n) - using Bit Vector Ops\n",
    "def palindromePermutation2(S):\n",
    "    \n",
    "    def toggle(bitVector,i):\n",
    "        mask = 1 << i\n",
    "        if bitVector & mask == 0:\n",
    "            bitVector = bitVector | mask\n",
    "        else:\n",
    "            bitVector = bitVector & ~mask\n",
    "        return bitVector\n",
    "    \n",
    "    bitVector = 0\n",
    "    for s in S:\n",
    "        if s.isalpha():\n",
    "            x = ord(s.lower()) - ord('a')+1\n",
    "            bitVector = toggle(bitVector,x)\n",
    "            \n",
    "    def checkBitVector(bitVector):\n",
    "        return bitVector & (bitVector-1) == 0\n",
    "            \n",
    "    return bitVector == 0 or checkBitVector(bitVector)"
   ]
  },
  {
   "cell_type": "code",
   "execution_count": 115,
   "metadata": {},
   "outputs": [
    {
     "data": {
      "text/plain": [
       "False"
      ]
     },
     "execution_count": 115,
     "metadata": {},
     "output_type": "execute_result"
    }
   ],
   "source": [
    "palindromePermutation2('Taco Cab')"
   ]
  },
  {
   "cell_type": "code",
   "execution_count": 89,
   "metadata": {},
   "outputs": [],
   "source": [
    "# O(n) - using backward filling\n",
    "def urlify(S: list,t: int):\n",
    "    space = 0\n",
    "    for i in range(t):\n",
    "        if S[i] == \" \":\n",
    "            space += 1\n",
    "    \n",
    "    j = t + 2*space\n",
    "    t -= 1\n",
    "    j -= 1\n",
    "    while(t>0):\n",
    "        if S[t] == ' ':\n",
    "            S[j] = '0'\n",
    "            S[j-1] = '2'\n",
    "            S[j-2] = '%'\n",
    "            j -= 3\n",
    "        else:\n",
    "            S[j] = S[t]\n",
    "            j -= 1\n",
    "        t -= 1\n",
    "    return ''.join(S)"
   ]
  },
  {
   "cell_type": "code",
   "execution_count": 61,
   "metadata": {},
   "outputs": [
    {
     "data": {
      "text/plain": [
       "'Mr%20John%20Smith   '"
      ]
     },
     "execution_count": 61,
     "metadata": {},
     "output_type": "execute_result"
    }
   ],
   "source": [
    "urlify(list(\"Mr John Smith       \"),13)"
   ]
  },
  {
   "cell_type": "code",
   "execution_count": 30,
   "metadata": {},
   "outputs": [],
   "source": [
    "# O(nlogn) - using sort()\n",
    "def checkPermutation(S,T):\n",
    "    T = sorted(T)\n",
    "    S = sorted(S)\n",
    "    return T == S\n",
    "\n",
    "\n",
    "# O(n) - using character count(dict)\n",
    "def checkPermutation2(S,T):\n",
    "    temp = {}\n",
    "    for s in S:\n",
    "        temp[s] = temp.get(s,0) + 1\n",
    "    \n",
    "    for t in T:\n",
    "        if t not in temp:\n",
    "            return False\n",
    "        temp[t] -= 1\n",
    "        if temp[t]<0:\n",
    "            return False\n",
    "    return True"
   ]
  },
  {
   "cell_type": "code",
   "execution_count": 34,
   "metadata": {},
   "outputs": [
    {
     "data": {
      "text/plain": [
       "False"
      ]
     },
     "execution_count": 34,
     "metadata": {},
     "output_type": "execute_result"
    }
   ],
   "source": [
    "checkPermutation2('asdfb','asdfa')"
   ]
  },
  {
   "cell_type": "code",
   "execution_count": 13,
   "metadata": {},
   "outputs": [],
   "source": [
    "# O(n) - using set\n",
    "def isUnique(S):\n",
    "    temp = set()\n",
    "    for s in S:\n",
    "        if s in temp:\n",
    "            return False\n",
    "        temp.add(s)\n",
    "    return True\n",
    "\n",
    "\n",
    "# follow up: without additional data structure \n",
    "# O(n2)\n",
    "def isUnique2(S):\n",
    "    for i,s in enumerate(S):\n",
    "        if s in S[i+1:]:\n",
    "            return False\n",
    "    return True\n",
    "\n",
    "\n",
    "# O(nlogn)\n",
    "def isUnique3(S):\n",
    "    S = sorted(S)\n",
    "    for i in range(len(S)-1):\n",
    "        if S[i] == S[i+1]:\n",
    "            return False\n",
    "    return True"
   ]
  }
 ],
 "metadata": {
  "kernelspec": {
   "display_name": "Python 3",
   "language": "python",
   "name": "python3"
  },
  "language_info": {
   "codemirror_mode": {
    "name": "ipython",
    "version": 3
   },
   "file_extension": ".py",
   "mimetype": "text/x-python",
   "name": "python",
   "nbconvert_exporter": "python",
   "pygments_lexer": "ipython3",
   "version": "3.6.9"
  }
 },
 "nbformat": 4,
 "nbformat_minor": 4
}
