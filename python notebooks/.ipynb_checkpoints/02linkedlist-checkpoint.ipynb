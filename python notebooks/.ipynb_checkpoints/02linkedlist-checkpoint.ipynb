{
 "cells": [
  {
   "cell_type": "code",
   "execution_count": 90,
   "metadata": {},
   "outputs": [
    {
     "name": "stdout",
     "output_type": "stream",
     "text": [
      "1 3 5 8 5 2 10 4 "
     ]
    }
   ],
   "source": [
    "class ListNode:\n",
    "    def __init__(self, x):\n",
    "        self.val = x\n",
    "        self.next = None\n",
    "        \n",
    "def appendToTail(head, x):\n",
    "    node = ListNode(x)\n",
    "    n = head\n",
    "    while(n.next):\n",
    "        n = n.next\n",
    "    n.next = node\n",
    "        \n",
    "def printLL(head):\n",
    "    while(head):\n",
    "        print(head.val,end=\" \")\n",
    "        head = head.next\n",
    "        \n",
    "head = ListNode(1)\n",
    "nums = [3,5,8,5,2,10,4]\n",
    "for n in nums:\n",
    "    appendToTail(head,n)\n",
    "printLL(head)"
   ]
  },
  {
   "cell_type": "code",
   "execution_count": 91,
   "metadata": {},
   "outputs": [],
   "source": [
    "def partition(head,p):\n",
    "    before = after = head\n",
    "    \n",
    "    node = head\n",
    "    while(node):\n",
    "        nextnode = node.next\n",
    "        if node.val < p:\n",
    "            node.next = before\n",
    "            before = node\n",
    "        else:\n",
    "            after.next = node\n",
    "            after = node\n",
    "        node = nextnode\n",
    "    after.next = None\n",
    "    \n",
    "    return before"
   ]
  },
  {
   "cell_type": "code",
   "execution_count": 92,
   "metadata": {},
   "outputs": [
    {
     "name": "stdout",
     "output_type": "stream",
     "text": [
      "4 2 3 1 5 8 5 10 "
     ]
    }
   ],
   "source": [
    "root = partition(head,5)\n",
    "printLL(root)"
   ]
  },
  {
   "cell_type": "code",
   "execution_count": 87,
   "metadata": {},
   "outputs": [],
   "source": [
    "def partition(head,p):\n",
    "    before1,before2,after1,after2 = None, None, None, None\n",
    "    \n",
    "    node = head\n",
    "    while(node):\n",
    "        nextnode = node.next\n",
    "        node.next = None\n",
    "        if (node.val < p):\n",
    "            if before1 == None:\n",
    "                before1 = node\n",
    "                before2 = before1\n",
    "            else:\n",
    "                before2.next = node\n",
    "                before2 = before2.next\n",
    "        else:\n",
    "            if after1 == None:\n",
    "                after1 = node\n",
    "                after2 = after1\n",
    "            else:\n",
    "                after2.next = node\n",
    "                after2 = after2.next\n",
    "        node = nextnode\n",
    "    \n",
    "    if before1 == None:\n",
    "        return after1\n",
    "    \n",
    "    before2.next = after1\n",
    "    return before1"
   ]
  },
  {
   "cell_type": "code",
   "execution_count": null,
   "metadata": {},
   "outputs": [],
   "source": [
    "def deleteMiddleNode(node):\n",
    "    node.val = node.next.val\n",
    "    node.next = node.next.next"
   ]
  },
  {
   "cell_type": "code",
   "execution_count": null,
   "metadata": {},
   "outputs": [],
   "source": [
    "def kLast(head,k):\n",
    "    l = 0\n",
    "    node = head\n",
    "    while(node):\n",
    "        l += 1\n",
    "        node = node.next\n",
    "    k = l-k\n",
    "    node = head\n",
    "    while(k>0):\n",
    "        k -= 1\n",
    "        node = node.next\n",
    "    return node.val"
   ]
  },
  {
   "cell_type": "code",
   "execution_count": null,
   "metadata": {},
   "outputs": [],
   "source": [
    "def kLast2(node,k):\n",
    "    \n",
    "    if node == None:\n",
    "        return 0\n",
    "\n",
    "    index = kLast2(node.next,k) + 1\n",
    "    if index == k :\n",
    "        print(node.val)\n",
    "\n",
    "    return index"
   ]
  },
  {
   "cell_type": "code",
   "execution_count": null,
   "metadata": {},
   "outputs": [],
   "source": [
    "def kLast3(head,k):\n",
    "    node2 = head\n",
    "    while(k>0):\n",
    "        k -=1\n",
    "        node2 = node2.next\n",
    "    \n",
    "    node1 = head\n",
    "    while(node2):\n",
    "        node1 = node1.next\n",
    "        node2 = node2.next\n",
    "    \n",
    "    return node1.val"
   ]
  },
  {
   "cell_type": "code",
   "execution_count": null,
   "metadata": {},
   "outputs": [],
   "source": []
  },
  {
   "cell_type": "code",
   "execution_count": null,
   "metadata": {},
   "outputs": [],
   "source": [
    "def removeDups(head):\n",
    "    curr = head\n",
    "    while(curr):\n",
    "        node = curr\n",
    "        while(node.next):\n",
    "            if node.next.val == curr.val:\n",
    "                node.next = node.next.next\n",
    "            else:\n",
    "                node = node.next\n",
    "        curr = curr.next\n",
    "    return head"
   ]
  }
 ],
 "metadata": {
  "kernelspec": {
   "display_name": "Python 3",
   "language": "python",
   "name": "python3"
  },
  "language_info": {
   "codemirror_mode": {
    "name": "ipython",
    "version": 3
   },
   "file_extension": ".py",
   "mimetype": "text/x-python",
   "name": "python",
   "nbconvert_exporter": "python",
   "pygments_lexer": "ipython3",
   "version": "3.6.9"
  }
 },
 "nbformat": 4,
 "nbformat_minor": 4
}
