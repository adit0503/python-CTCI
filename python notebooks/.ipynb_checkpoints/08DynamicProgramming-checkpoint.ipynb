{
 "cells": [
  {
   "cell_type": "code",
   "execution_count": null,
   "metadata": {},
   "outputs": [],
   "source": []
  },
  {
   "cell_type": "code",
   "execution_count": 74,
   "metadata": {},
   "outputs": [],
   "source": [
    "def fiboRecursive(n) -> int:\n",
    "    if n == 0:\n",
    "        return 0\n",
    "    if n == 1:\n",
    "        return 1\n",
    "    return fiboRecursive(n-1) + fiboRecursive(n-2)\n",
    "\n",
    "def fiboRecursive2(n) -> int:\n",
    "    if n == 0:\n",
    "        return 0 \n",
    "    \n",
    "    fibo = [0 for _ in range(n+1)] #memoization\n",
    "    fibo[1] = 1\n",
    "    for i in range(2,n+1):\n",
    "        fibo[i] = fibo[i-1] + fibo[i-2]\n",
    "    return fibo[-1]"
   ]
  },
  {
   "cell_type": "code",
   "execution_count": 75,
   "metadata": {},
   "outputs": [
    {
     "data": {
      "text/plain": [
       "6765"
      ]
     },
     "execution_count": 75,
     "metadata": {},
     "output_type": "execute_result"
    }
   ],
   "source": [
    "fiboRecursive2(20)"
   ]
  },
  {
   "cell_type": "code",
   "execution_count": 76,
   "metadata": {},
   "outputs": [
    {
     "name": "stdout",
     "output_type": "stream",
     "text": [
      "0 1 1 2 3 5 8 13 21 34 55 89 144 233 377 610 987 1597 2584 4181 6765 "
     ]
    }
   ],
   "source": [
    "n = 20\n",
    "for i in range(n+1):\n",
    "    print(fiboRecursive(i),end=\" \")"
   ]
  },
  {
   "cell_type": "code",
   "execution_count": 46,
   "metadata": {},
   "outputs": [],
   "source": [
    "def fiboIterative(n) -> int:\n",
    "    if n == 0:\n",
    "        return 0\n",
    "    if n == 1:\n",
    "        return 1\n",
    "    f1,f2 = 0,1\n",
    "    for _ in range(n-1):\n",
    "        fibo = f1+f2\n",
    "        f1 = f2\n",
    "        f2 = fibo\n",
    "    return fibo"
   ]
  },
  {
   "cell_type": "code",
   "execution_count": 79,
   "metadata": {},
   "outputs": [
    {
     "data": {
      "text/plain": [
       "6765"
      ]
     },
     "execution_count": 79,
     "metadata": {},
     "output_type": "execute_result"
    }
   ],
   "source": [
    "fiboIterative(20)"
   ]
  },
  {
   "cell_type": "code",
   "execution_count": 78,
   "metadata": {},
   "outputs": [
    {
     "name": "stdout",
     "output_type": "stream",
     "text": [
      "0 1 1 2 3 5 8 13 21 34 55 89 144 233 377 610 987 1597 2584 4181 6765 "
     ]
    }
   ],
   "source": [
    "n = 20\n",
    "for i in range(n+1):\n",
    "    print(fiboIterative(i),end=\" \")"
   ]
  },
  {
   "cell_type": "code",
   "execution_count": 26,
   "metadata": {},
   "outputs": [],
   "source": [
    "def binarySearchRecursive(arr,t,i,j) -> int:\n",
    "    if i <= j:\n",
    "        m = (i+j)//2\n",
    "        if arr[m] == t:\n",
    "            return m\n",
    "        elif arr[m] > t:\n",
    "            return binarySearchRecursive(arr,t,i,m-1)\n",
    "        else:\n",
    "            return binarySearchRecursive(arr,t,m+1,j)\n",
    "    else:\n",
    "        return -1"
   ]
  },
  {
   "cell_type": "code",
   "execution_count": 27,
   "metadata": {},
   "outputs": [
    {
     "data": {
      "text/plain": [
       "-1"
      ]
     },
     "execution_count": 27,
     "metadata": {},
     "output_type": "execute_result"
    }
   ],
   "source": [
    "binarySearchRecursive([1,2,3,4,5],6,0,4)"
   ]
  },
  {
   "cell_type": "code",
   "execution_count": 28,
   "metadata": {},
   "outputs": [],
   "source": [
    "def binarySearchIterative(arr,t,i,j) -> int:\n",
    "    while(i<=j):\n",
    "        m = (i+j)//2\n",
    "        if arr[m] == t:\n",
    "            return m\n",
    "        elif arr[m] > t:\n",
    "            j = m-1\n",
    "        else:\n",
    "            i = m+1\n",
    "    return -1"
   ]
  },
  {
   "cell_type": "code",
   "execution_count": 29,
   "metadata": {},
   "outputs": [
    {
     "data": {
      "text/plain": [
       "2"
      ]
     },
     "execution_count": 29,
     "metadata": {},
     "output_type": "execute_result"
    }
   ],
   "source": [
    "binarySearchIterative([1,2,3,4,5],3,0,4)"
   ]
  }
 ],
 "metadata": {
  "kernelspec": {
   "display_name": "Python 3",
   "language": "python",
   "name": "python3"
  },
  "language_info": {
   "codemirror_mode": {
    "name": "ipython",
    "version": 3
   },
   "file_extension": ".py",
   "mimetype": "text/x-python",
   "name": "python",
   "nbconvert_exporter": "python",
   "pygments_lexer": "ipython3",
   "version": "3.6.9"
  }
 },
 "nbformat": 4,
 "nbformat_minor": 4
}
