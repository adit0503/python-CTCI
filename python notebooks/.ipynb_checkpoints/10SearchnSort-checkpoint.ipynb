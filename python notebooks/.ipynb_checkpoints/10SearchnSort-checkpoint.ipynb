{
 "cells": [
  {
   "cell_type": "code",
   "execution_count": null,
   "metadata": {},
   "outputs": [],
   "source": []
  },
  {
   "cell_type": "code",
   "execution_count": 1,
   "metadata": {},
   "outputs": [],
   "source": [
    "def sortedMerge(A,B,n,m):\n",
    "    i,j,k = n-1,m-1,n+m-1\n",
    "    while(j > -1):\n",
    "        if i>=0 and A[i] >= B[j]:\n",
    "            A[k] = A[i]\n",
    "            i -= 1\n",
    "            k -= 1\n",
    "        else:\n",
    "            A[k] = B[j]\n",
    "            j -= 1\n",
    "            k -= 1\n",
    "    return A"
   ]
  },
  {
   "cell_type": "code",
   "execution_count": null,
   "metadata": {},
   "outputs": [],
   "source": []
  }
 ],
 "metadata": {
  "kernelspec": {
   "display_name": "Python 3",
   "language": "python",
   "name": "python3"
  },
  "language_info": {
   "codemirror_mode": {
    "name": "ipython",
    "version": 3
   },
   "file_extension": ".py",
   "mimetype": "text/x-python",
   "name": "python",
   "nbconvert_exporter": "python",
   "pygments_lexer": "ipython3",
   "version": "3.6.9"
  }
 },
 "nbformat": 4,
 "nbformat_minor": 4
}
