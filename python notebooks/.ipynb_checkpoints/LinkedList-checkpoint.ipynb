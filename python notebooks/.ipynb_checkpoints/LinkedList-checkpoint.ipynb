{
 "cells": [
  {
   "cell_type": "code",
   "execution_count": 2,
   "metadata": {},
   "outputs": [
    {
     "name": "stdout",
     "output_type": "stream",
     "text": [
      "0 1 2 3 4 5 6 7 8 9 "
     ]
    }
   ],
   "source": [
    "class ListNode:\n",
    "    def __init__(self, x):\n",
    "        self.val = x\n",
    "        self.next = None\n",
    "        \n",
    "def appendToTail(head, x):\n",
    "    node = ListNode(x)\n",
    "    n = head\n",
    "    while(n.next):\n",
    "        n = n.next\n",
    "    n.next = node\n",
    "        \n",
    "def printLL(head):\n",
    "    while(head):\n",
    "        print(head.val,end=\" \")\n",
    "        head = head.next\n",
    "        \n",
    "head = ListNode(0)\n",
    "for i in range(1,10):\n",
    "    appendToTail(head,i)\n",
    "printLL(head)"
   ]
  },
  {
   "cell_type": "code",
   "execution_count": 1,
   "metadata": {},
   "outputs": [],
   "source": [
    "def reverseLL(head):\n",
    "    before = head\n",
    "    \n",
    "    f = True\n",
    "    node = head\n",
    "    while(node):\n",
    "        nextnode = node.next\n",
    "        \n",
    "        if f:\n",
    "            node.next = None\n",
    "            f = False\n",
    "        else:\n",
    "            node.next = before\n",
    "        before = node\n",
    "        \n",
    "        node = nextnode\n",
    "    return before"
   ]
  },
  {
   "cell_type": "code",
   "execution_count": 47,
   "metadata": {},
   "outputs": [],
   "source": [
    "def deleteNode(head,x):\n",
    "    \n",
    "    if head.val == x:\n",
    "        return head.next\n",
    "    \n",
    "    n = head\n",
    "    while(n.next):\n",
    "        if n.next.val == x:\n",
    "            n.next = n.next.next\n",
    "            return head\n",
    "        n = n.next\n",
    "\n",
    "    return head"
   ]
  },
  {
   "cell_type": "code",
   "execution_count": 48,
   "metadata": {},
   "outputs": [],
   "source": [
    "def rearrange(head):\n",
    "    slow = fast = head\n",
    "    while(fast):\n",
    "        slow = slow.next\n",
    "        fast = fast.next.next\n",
    "    print(slow.val)\n",
    "    res = ListNode(-1)\n",
    "    res.next = head\n",
    "    \n",
    "    p1 = head\n",
    "    p2 = slow\n",
    "    while(p2.next):\n",
    "        temp1 = p1.next\n",
    "        temp2 = p2.next\n",
    "            \n",
    "        p1.next = p2\n",
    "        p2.next = temp1\n",
    "        \n",
    "        p1 = temp1\n",
    "        p2 = temp2\n",
    "    p1.next = p2\n",
    "    return res.next        "
   ]
  }
 ],
 "metadata": {
  "kernelspec": {
   "display_name": "Python 3",
   "language": "python",
   "name": "python3"
  },
  "language_info": {
   "codemirror_mode": {
    "name": "ipython",
    "version": 3
   },
   "file_extension": ".py",
   "mimetype": "text/x-python",
   "name": "python",
   "nbconvert_exporter": "python",
   "pygments_lexer": "ipython3",
   "version": "3.6.9"
  }
 },
 "nbformat": 4,
 "nbformat_minor": 4
}
