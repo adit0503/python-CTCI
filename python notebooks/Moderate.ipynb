{
 "cells": [
  {
   "cell_type": "code",
   "execution_count": 9,
   "metadata": {},
   "outputs": [],
   "source": [
    "class NS:\n",
    "    def __init__(self,a,b):\n",
    "        self.a = a\n",
    "        self.b = b\n",
    "        \n",
    "    def numberSwapper(self):\n",
    "        self.a = self.a - self.b\n",
    "        self.b = self.b + self.a\n",
    "        self.a = self.b - self.a\n",
    "        \n",
    "    def numberSwapper2(self):\n",
    "        self.a = self.a ^ self.b\n",
    "        self.b = self.a ^ self.b\n",
    "        self.a = self.a ^ self.b"
   ]
  },
  {
   "cell_type": "code",
   "execution_count": 15,
   "metadata": {},
   "outputs": [
    {
     "name": "stdout",
     "output_type": "stream",
     "text": [
      "5 3\n",
      "3 5\n"
     ]
    }
   ],
   "source": [
    "obj = NS(5,3)\n",
    "print(obj.a,obj.b)\n",
    "obj.numberSwapper()\n",
    "print(obj.a,obj.b)"
   ]
  },
  {
   "cell_type": "code",
   "execution_count": null,
   "metadata": {},
   "outputs": [],
   "source": []
  }
 ],
 "metadata": {
  "kernelspec": {
   "display_name": "Python 3",
   "language": "python",
   "name": "python3"
  },
  "language_info": {
   "codemirror_mode": {
    "name": "ipython",
    "version": 3
   },
   "file_extension": ".py",
   "mimetype": "text/x-python",
   "name": "python",
   "nbconvert_exporter": "python",
   "pygments_lexer": "ipython3",
   "version": "3.6.9"
  }
 },
 "nbformat": 4,
 "nbformat_minor": 4
}
