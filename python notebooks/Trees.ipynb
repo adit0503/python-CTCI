{
 "cells": [
  {
   "cell_type": "code",
   "execution_count": 13,
   "metadata": {},
   "outputs": [],
   "source": [
    "class TreeNode:\n",
    "    def __init__(self, val=0, left=None, right=None):\n",
    "        self.val = val\n",
    "        self.left = left\n",
    "        self.right = right\n",
    "\n",
    "# level-order Array\n",
    "def ArrayToTree(nums):\n",
    "    root = TreeNode(nums[0])\n",
    "    nodeQueue = [root]\n",
    "    front = 0\n",
    "    index = 1\n",
    "    while index < len(nums):\n",
    "        node = nodeQueue[front]\n",
    "        front = front + 1\n",
    "        \n",
    "#         insert left child\n",
    "        item = nums[index]\n",
    "        index = index + 1\n",
    "        if item != \"null\":\n",
    "            leftNumber = item\n",
    "            node.left = TreeNode(leftNumber)\n",
    "            nodeQueue.append(node.left)\n",
    "\n",
    "        if index >= len(nums):\n",
    "            break\n",
    "\n",
    "#         insert right child\n",
    "        item = nums[index]\n",
    "        index = index + 1\n",
    "        if item != \"null\":\n",
    "            rightNumber = int(item)\n",
    "            node.right = TreeNode(rightNumber)\n",
    "            nodeQueue.append(node.right)\n",
    "            \n",
    "    return root\n",
    "\n",
    "#BFS - level order display\n",
    "def TreeToArray(root):\n",
    "    if not root:\n",
    "        return []\n",
    "    output = []\n",
    "    queue = [root]\n",
    "    current = 0\n",
    "    while current != len(queue):\n",
    "        node = queue[current]\n",
    "        current = current + 1\n",
    "\n",
    "        if not node:\n",
    "            continue\n",
    "\n",
    "        output.append(node.val)\n",
    "        queue.append(node.left)\n",
    "        queue.append(node.right)\n",
    "    return output"
   ]
  },
  {
   "cell_type": "code",
   "execution_count": 6,
   "metadata": {},
   "outputs": [],
   "source": [
    "nums = [5, 1, 4, 4]\n",
    "head = ArrayToTree(nums)"
   ]
  },
  {
   "cell_type": "code",
   "execution_count": 7,
   "metadata": {},
   "outputs": [
    {
     "data": {
      "text/plain": [
       "[5, 1, 4, 4]"
      ]
     },
     "execution_count": 7,
     "metadata": {},
     "output_type": "execute_result"
    }
   ],
   "source": [
    "TreeToArray(head)"
   ]
  },
  {
   "cell_type": "code",
   "execution_count": 31,
   "metadata": {},
   "outputs": [
    {
     "name": "stdout",
     "output_type": "stream",
     "text": [
      "[1, 1, 5, 3, 8, 2, 4, 6, 9, 7]\n",
      "1 1 2 3 4 5 6 7 8 9 None\n",
      "1 1 5 3 2 4 8 6 7 9 None\n"
     ]
    }
   ],
   "source": [
    "def toBST(root,node): \n",
    "    if not root: \n",
    "        root = node\n",
    "    else:\n",
    "        if root.val < node.val:\n",
    "            if not root.right: \n",
    "                root.right = node \n",
    "            else:\n",
    "                toBST(root.right, node) \n",
    "        else:\n",
    "            if not root.left: \n",
    "                root.left = node \n",
    "            else:\n",
    "                toBST(root.left, node)\n",
    "                \n",
    "def inOrder(node): \n",
    "    if node: \n",
    "        inOrder(node.left) \n",
    "        print(node.val,end=\" \") \n",
    "        inOrder(node.right) \n",
    "\n",
    "nums = [1,5,3,8,2,4,6,9,7]\n",
    "root = TreeNode(nums[0])\n",
    "for i in range(0,len(nums)):\n",
    "    toBST(root,TreeNode(nums[i]))\n",
    "print(TreeToArray(root))\n",
    "print(inOrder(root))\n",
    "print(preOrder(root))"
   ]
  },
  {
   "cell_type": "code",
   "execution_count": null,
   "metadata": {},
   "outputs": [],
   "source": []
  }
 ],
 "metadata": {
  "kernelspec": {
   "display_name": "Python 3",
   "language": "python",
   "name": "python3"
  },
  "language_info": {
   "codemirror_mode": {
    "name": "ipython",
    "version": 3
   },
   "file_extension": ".py",
   "mimetype": "text/x-python",
   "name": "python",
   "nbconvert_exporter": "python",
   "pygments_lexer": "ipython3",
   "version": "3.6.9"
  }
 },
 "nbformat": 4,
 "nbformat_minor": 4
}
