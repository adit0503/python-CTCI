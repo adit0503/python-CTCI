{
 "cells": [
  {
   "cell_type": "code",
   "execution_count": null,
   "metadata": {},
   "outputs": [],
   "source": []
  },
  {
   "cell_type": "markdown",
   "metadata": {},
   "source": [
    "### 10.10 Rank of Stream\n",
    "<pre>\n",
    "Imagine you are reading in a stream of integers. Periodically, you wish to be able to look up the rank of a number x (the number of values less than or equal to x). \n",
    "Implement the data structures and algorithms to support these operations. \n",
    "That is, implement the method track(int x), which is called when each number is generated, and the method getRankOfNumber(int x), which returns the number of values less than or equal to x (not including x itself).\n",
    "EXAMPLE:\n",
    "Stream (in order of appearance) : 5, 1, 4, 4, 5, 9, 7, 13, 3\n",
    "getRankOfNumber(1) = 0\n",
    "getRankOfNumber(3) = 1\n",
    "getRankOfNumber(4) = 3\n",
    "<pre>"
   ]
  },
  {
   "cell_type": "code",
   "execution_count": 44,
   "metadata": {},
   "outputs": [
    {
     "name": "stdout",
     "output_type": "stream",
     "text": [
      "1 2 3 4 5 6 7 8 9 None\n"
     ]
    }
   ],
   "source": [
    "class TreeNode:\n",
    "    def __init__(self, val=0, left=None, right=None):\n",
    "        self.val = val\n",
    "        self.left = left\n",
    "        self.right = right\n",
    "        \n",
    "class Solution:\n",
    "    def __init__(self,head):\n",
    "        self.root = TreeNode(head)\n",
    "        \n",
    "    def toBST(self,root,node):\n",
    "        if not root:\n",
    "            root = node\n",
    "        else:\n",
    "            if node.val > root.val:\n",
    "                if not root.right:\n",
    "                    root.right = node\n",
    "                else:\n",
    "                    self.toBST(root.right,node)\n",
    "            else:\n",
    "                if not root.left:\n",
    "                    root.left = node\n",
    "                else:\n",
    "                    self.toBST(root.left,node)\n",
    "        \n",
    "    def track(self, x):\n",
    "        self.toBST(self.root,TreeNode(x))\n",
    "        \n",
    "    def inOrder(self, node): \n",
    "        if node: \n",
    "            self.inOrder(node.left) \n",
    "            print(node.val,end=\" \") \n",
    "            self.inOrder(node.right) \n",
    "        \n",
    "nums = [1,5,3,8,2,4,6,9,7]\n",
    "obj = Solution(nums[0])\n",
    "for i in range(1,len(nums)):\n",
    "    obj.track(nums[i])\n",
    "print(obj.inOrder(obj.root))"
   ]
  },
  {
   "cell_type": "code",
   "execution_count": 37,
   "metadata": {},
   "outputs": [
    {
     "name": "stdout",
     "output_type": "stream",
     "text": [
      "[5, 1, 4, 4, 5, 9, 7, 13, 3]\n",
      "4 0 2 2 4 7 6 8 1 "
     ]
    }
   ],
   "source": [
    "# O(n) - track ; O(logn) - getRankOfNumber\n",
    "class Solution:\n",
    "    def __init__(self):\n",
    "        self.nums = []\n",
    "    \n",
    "    def track(self, x):\n",
    "        i = 0\n",
    "        while(i<len(self.nums)):\n",
    "            if x < self.nums[i]:\n",
    "                break\n",
    "            i += 1\n",
    "        self.nums.insert(i,x)\n",
    "            \n",
    "    def getRankOfNumber(self, x):\n",
    "        l = 0\n",
    "        r = len(self.nums)-1\n",
    "        while(l<=r):\n",
    "            m = (l+r)//2\n",
    "            if x < self.nums[m]:\n",
    "                r = m-1\n",
    "            elif x > self.nums[m]:\n",
    "                l = m+1\n",
    "            else:\n",
    "                return m\n",
    "        return -1\n",
    "\n",
    "nums = [5, 1, 4, 4, 5, 9, 7, 13, 3]\n",
    "obj = Solution()\n",
    "for n in nums:\n",
    "    obj.track(n)\n",
    "print(nums)\n",
    "for n in nums:\n",
    "    print(obj.getRankOfNumber(n),end=' ')"
   ]
  },
  {
   "cell_type": "markdown",
   "metadata": {},
   "source": [
    "### 10.11 Peaks and Valleys\n",
    "<pre>\n",
    "In an array of integers, a \"peak\" is an element which is greater than or equal to the adjacent integers and a \"valley\" is an element which is less than or equal to the adjacent integers. For example, in the array {5, 8, 6, 2, 3, 4, 6 }, {8, 6} are peaks and {5, 2} are valleys. \n",
    "Given an array of integers, sort the array into an alternating sequence of peaks and valleys.\n",
    "EXAMPLE:\n",
    "Input: {5, 3, 1, 2, 3}\n",
    "Output: {5, 1, 3, 2, 3}\n",
    "</pre>"
   ]
  },
  {
   "cell_type": "code",
   "execution_count": 15,
   "metadata": {},
   "outputs": [
    {
     "name": "stdout",
     "output_type": "stream",
     "text": [
      "[2, 1, 3, 3, 5]\n"
     ]
    }
   ],
   "source": [
    "# O(n)\n",
    "import sys\n",
    "def peaksvalley(nums):\n",
    "    \n",
    "    def maxIndex(i,j,k):\n",
    "        if k > len(nums):\n",
    "            kval = -sys.maxsize\n",
    "        ival = nums[i]\n",
    "        jval = nums[j]\n",
    "        maxval = max(ival,jval,kval)\n",
    "        if maxval == ival:\n",
    "            return i\n",
    "        elif maxval == jval:\n",
    "            return j\n",
    "        else:\n",
    "            return k\n",
    "        \n",
    "    for i in range(1,len(nums),2):\n",
    "        index = maxIndex(i-1,i,i+1)\n",
    "        nums[i],nums[index] = nums[index],nums[i]\n",
    "        i += 2\n",
    "    \n",
    "    return nums\n",
    "\n",
    "# nums = [5,8,6,2,3,4,6]\n",
    "nums = [5,3,1,2,3]\n",
    "print(peaksvalleys(nums))"
   ]
  },
  {
   "cell_type": "code",
   "execution_count": 14,
   "metadata": {
    "scrolled": true
   },
   "outputs": [
    {
     "name": "stdout",
     "output_type": "stream",
     "text": [
      "[2, 1, 3, 3, 5]\n"
     ]
    }
   ],
   "source": [
    "# O(nlogn)\n",
    "def peaksvalleys(nums):\n",
    "    nums.sort()\n",
    "    i = 1\n",
    "    while(i<len(nums)):\n",
    "        nums[i-1],nums[i] = nums[i],nums[i-1]\n",
    "        i += 2\n",
    "    return nums\n",
    "\n",
    "# nums = [5,8,6,2,3,4,6]\n",
    "nums = [5,3,1,2,3]\n",
    "print(peaksvalleys(nums))"
   ]
  }
 ],
 "metadata": {
  "kernelspec": {
   "display_name": "Python 3",
   "language": "python",
   "name": "python3"
  },
  "language_info": {
   "codemirror_mode": {
    "name": "ipython",
    "version": 3
   },
   "file_extension": ".py",
   "mimetype": "text/x-python",
   "name": "python",
   "nbconvert_exporter": "python",
   "pygments_lexer": "ipython3",
   "version": "3.6.9"
  }
 },
 "nbformat": 4,
 "nbformat_minor": 4
}
